{
 "cells": [
  {
   "cell_type": "markdown",
   "metadata": {},
   "source": [
    "### A2: Bias in data"
   ]
  },
  {
   "cell_type": "markdown",
   "metadata": {},
   "source": [
    "### Getting the article and population data"
   ]
  },
  {
   "cell_type": "code",
   "execution_count": 1,
   "metadata": {
    "collapsed": true
   },
   "outputs": [],
   "source": [
    "## getting the data from the CSV files\n",
    "import csv\n",
    "\n",
    "\n"
   ]
  },
  {
   "cell_type": "code",
   "execution_count": null,
   "metadata": {},
   "outputs": [],
   "source": []
  },
  {
   "cell_type": "code",
   "execution_count": 8,
   "metadata": {},
   "outputs": [
    {
     "name": "stdout",
     "output_type": "stream",
     "text": [
      "47197\n"
     ]
    }
   ],
   "source": [
    "# reading data and saving in dictionary of dictionaries\n",
    "'''\n",
    "{\n",
    "    \"revision_id\": {\n",
    "        \"country\": \"\",\n",
    "        \"article_name\": \"\",\n",
    "        \"revision_id\":\"\",\n",
    "    },\n",
    "    \"revision_id\": {\n",
    "    \n",
    "    },\n",
    "    ...\n",
    "}\n",
    "'''\n",
    "\n",
    "page_data = dict()\n",
    "skip_lines = 1\n",
    "\n",
    "with open('page_data.csv', encoding=\"utf8\") as csvfile:\n",
    "    reader = csv.reader(csvfile)\n",
    "    for row in reader:\n",
    "        #page_data.append([row[0],row[1],row[2]])\n",
    "        #['Template:ZambiaProvincialMinisters', 'Zambia', '235107991']\n",
    "        if(skip_lines!=1):\n",
    "            revision_id = row[2]\n",
    "            page_data[revision_id]=dict()\n",
    "            page_data[revision_id][\"country\"] = row[1]\n",
    "            page_data[revision_id][\"article_name\"] = row[0]\n",
    "            page_data[revision_id][\"revision_id\"] = row[2] \n",
    "            \n",
    "        skip_lines = skip_lines+1\n",
    "print(len((page_data)))"
   ]
  },
  {
   "cell_type": "code",
   "execution_count": null,
   "metadata": {
    "collapsed": true
   },
   "outputs": [],
   "source": []
  },
  {
   "cell_type": "code",
   "execution_count": 18,
   "metadata": {},
   "outputs": [
    {
     "name": "stdout",
     "output_type": "stream",
     "text": [
      "{'Afghanistan': '32,247,000', 'Albania': '2,892,000', 'Algeria': '39,948,000', 'Andorra': '78,000', 'Angola': '25,000,000', 'Antigua and Barbuda': '90,000', 'Argentina': '42,426,000', 'Armenia': '3,017,106', 'Australia': '23,888,000', 'Austria': '8,615,955', 'Azerbaijan': '9,651,000', 'Bahamas': '377,000', 'Bahrain': '1,412,299', 'Bangladesh': '160,411,000', 'Barbados': '278,000', 'Belarus': '9,524,247', 'Belgium': '11,211,064', 'Belize': '368,000', 'Benin': '10,583,034', 'Bhutan': '757,000', 'Bolivia': '10,475,500', 'Bosnia-Herzegovina': '3,650,114', 'Botswana': '2,139,900', 'Brazil': '204,519,398', 'Brunei': '413,000', 'Bulgaria': '7,181,000', 'Burkina Faso': '18,450,400', 'Burundi': '10,742,000', 'Cambodia': '15,417,100', 'Cameroon': '23,739,000', 'Canada': '35,833,000', 'Cape Verde': '514,000', 'Central African Republic': '5,551,900', 'Chad': '13,707,000', 'Channel Islands': '164,000', 'Chile': '18,025,000', 'China': '1,371,920,000', 'Colombia': '48,218,000', 'Comoros': '764,000', 'Congo': '4,755,000', 'Congo, Dem. Rep. of': '73,340,200', 'Costa Rica': '4,832,000', \"Cote d'Ivoire\": '23,281,300', 'Croatia': '4,215,000', 'Cuba': '11,139,000', 'Curacao': '158,000', 'Cyprus': '1,153,000', 'Czech Republic': '10,551,227', 'Denmark': '5,676,025', 'Djibouti': '900,000', 'Dominica': '68,000', 'Dominican Republic': '10,508,000', 'Ecuador': '16,279,000', 'Egypt': '89,074,000', 'El Salvador': '6,366,000', 'Equatorial Guinea': '805,000', 'Eritrea': '5,200,000', 'Estonia': '1,310,504', 'Ethiopia': '98,148,000', 'Federated States of Micronesia': '103,000', 'Fiji': '867,000', 'Finland': '5,476,031', 'France': '64,346,720', 'French Guiana': '251,000', 'French Polynesia': '263,000', 'Gabon': '1,751,000', 'Gambia': '2,021,893', 'Georgia': '3,804,000', 'Germany': '81,132,000', 'Ghana': '27,672,800', 'Greece': '11,520,785', 'Grenada': '111,000', 'Guadeloupe': '407,000', 'Guam': '184,200', 'Guatemala': '16,183,752', 'Guinea': '10,985,600', 'Guinea-Bissau': '1,788,000', 'Guyana': '743,000', 'Haiti': '10,924,000', 'Honduras': '8,340,000', 'Hong Kong, SAR': '7,286,402', 'Hungary': '9,835,030', 'Iceland': '330,828', 'India': '1,314,097,616', 'Indonesia': '255,741,973', 'Iran': '78,483,446', 'Iraq': '37,056,000', 'Ireland': '4,630,308', 'Israel': '8,375,384', 'Italy': '62,466,780', 'Jamaica': '2,727,000', 'Japan': '126,866,820', 'Jordan': '8,118,000', 'Kazakhstan': '17,544,274', 'Kenya': '44,306,000', 'Kiribati': '113,400', 'Korea, North': '24,983,000', 'Korea, South': '50,713,867', 'Kosovo': '1,802,000', 'Kuwait': '3,837,700', 'Kyrgyzstan': '5,951,000', 'Laos': '6,903,049', 'Latvia': '1,978,454', 'Lebanon': '6,185,000', 'Lesotho': '1,924,381', 'Liberia': '4,503,000', 'Libya': '6,317,000', 'Liechtenstein': '37,570', 'Lithuania': '2,911,203', 'Luxembourg': '569,202', 'Macao, SAR': '658,611', 'Macedonia': '2,070,100', 'Madagascar': '23,047,400', 'Malawi': '17,174,000', 'Malaysia': '30,788,840', 'Maldives': '346,946', 'Mali': '16,749,000', 'Malta': '431,486', 'Marshall Islands': '55,000', 'Martinique': '379,000', 'Mauritania': '3,641,288', 'Mauritius': '1,262,660', 'Mayotte': '229,890', 'Mexico': '127,017,000', 'Moldova': '4,109,000', 'Monaco': '38,088', 'Mongolia': '3,029,335', 'Montenegro': '622,421', 'Morocco': '34,121,000', 'Mozambique': '25,736,000', 'Myanmar': '52,147,000', 'Namibia': '2,482,100', 'Nauru': '10,860', 'Nepal': '28,039,000', 'Netherlands': '16,942,373', 'New Caledonia': '271,974', 'New Zealand': '4,598,066', 'Nicaragua': '6,262,000', 'Niger': '18,884,462', 'Nigeria': '181,839,400', 'Norway': '5,194,411', 'Oman': '4,201,000', 'Pakistan': '199,047,300', 'Palau': '18,000', 'Palestinian Territory': '4,481,195', 'Panama': '3,980,000', 'Papua New Guinea': '7,744,600', 'Paraguay': '7,020,000', 'Peru': '31,151,643', 'Philippines': '102,965,300', 'Poland': '38,478,001', 'Portugal': '10,349,000', 'Puerto Rico': '3,502,000', 'Qatar': '2,394,524', 'Reunion': '851,060', 'Romania': '19,838,662', 'Russia': '144,302,000', 'Rwanda': '11,331,300', 'Samoa': '194,210', 'San Marino': '33,000', 'Sao Tome and Principe': '195,570', 'Saudi Arabia': '31,565,109', 'Senegal': '14,690,400', 'Serbia': '7,097,190', 'Seychelles': '92,833', 'Sierra Leone': '6,502,960', 'Singapore': '5,541,121', 'Slovakia': '5,424,051', 'Slovenia': '2,064,000', 'Solomon Islands': '641,900', 'Somalia': '11,123,000', 'South Africa': '55,041,000', 'South Sudan': '12,152,000', 'Spain': '46,368,000', 'Sri Lanka': '20,868,800', 'St. Kitts-Nevis': '46,000', 'St. Lucia': '175,000', 'St. Vincent & the Grenadines': '110,000', 'Sudan': '40,883,900', 'Suriname': '576,000', 'Swaziland': '1,286,000', 'Sweden': '9,804,792', 'Switzerland': '8,292,851', 'Syria': '17,065,000', 'Taiwan': '23,468,000', 'Tajikistan': '8,452,153', 'Tanzania': '52,291,000', 'Thailand': '65,121,250', 'Timor-Leste': '1,244,759', 'Togo': '7,231,000', 'Tonga': '103,300', 'Trinidad and Tobago': '1,351,000', 'Tunisia': '11,026,000', 'Turkey': '78,215,000', 'Turkmenistan': '5,373,000', 'Tuvalu': '11,800', 'Uganda': '40,141,000', 'Ukraine': '42,828,300', 'United Arab Emirates': '9,577,000', 'United Kingdom': '65,092,000', 'United States': '321,234,172', 'Uruguay': '3,562,000', 'Uzbekistan': '31,290,791', 'Vanuatu': '277,500', 'Venezuela': '30,620,000', 'Vietnam': '91,714,080', 'Western Sahara': '604,000', 'Yemen': '26,737,000', 'Zambia': '15,473,900', 'Zimbabwe': '17,354,000'}\n"
     ]
    }
   ],
   "source": [
    "\n",
    "'''\n",
    "{\n",
    "    \"country_name_1\":\"population\",\n",
    "    \"country_name_1\":\"population\"\n",
    "}\n",
    "\n",
    "'''\n",
    "population_data = {}\n",
    "\n",
    "# skip twolines from input csv file \n",
    "skip_lines = 1\n",
    "with open('Population Mid-2015.csv', encoding=\"utf8\") as csvfile:\n",
    "    reader = csv.reader(csvfile)\n",
    "    for row in reader:\n",
    "        # last line in the raw data file is an empty line\n",
    "        # skip_lines > 2 skips first two lines\n",
    "        # row checks if the read list is empty\n",
    "        #print(row)\n",
    "        if(skip_lines>3 and row):\n",
    "            # ['Afghanistan', 'Country', 'Mid-2015', 'Number', '32,247,000', '']\n",
    "            population_data[row[0]] = row[4]\n",
    "        skip_lines = skip_lines + 1\n",
    "        \n",
    "print(population_data)"
   ]
  },
  {
   "cell_type": "code",
   "execution_count": 56,
   "metadata": {},
   "outputs": [
    {
     "name": "stdout",
     "output_type": "stream",
     "text": [
      "no of entries which have popluation  = 0\n",
      "1397\n"
     ]
    }
   ],
   "source": [
    "# merging data set from wikipedia data(page_data) and population data(population_data)\n",
    "# reading data from page_data and including poulation data\n",
    "'''\n",
    "{\n",
    "    \"revision_id\": {\n",
    "        \"country\": \"\",\n",
    "        \"article_name\": \"\",\n",
    "        \"revision_id\":\"\",\n",
    "        \"population\":\"\"\n",
    "    },\n",
    "    \"revision_id\": {\n",
    "    \n",
    "    },\n",
    "    ...\n",
    "}\n",
    "'''\n",
    "count=0\n",
    "for key,value in page_data.items():\n",
    "    revision_id = key\n",
    "    #print(key)\n",
    "    \n",
    "    country_page_data = value[\"country\"]\n",
    "    #print(country_page_data)\n",
    "    \n",
    "    if population_data.get(str(country_page_data)) is not None:\n",
    "        page_data[revision_id][\"population\"] = population\n",
    "    else:\n",
    "        # for now setting population as 0 for countries which are not preset in population_data\n",
    "        page_data[revision_id][\"population\"] = 0\n",
    "        count = count+1\n",
    "        \n",
    "print(\"no of entries which have popluation  = 0\")      \n",
    "print(count)\n",
    "\n"
   ]
  },
  {
   "cell_type": "markdown",
   "metadata": {},
   "source": [
    "### Getting article quality predictions"
   ]
  },
  {
   "cell_type": "code",
   "execution_count": 67,
   "metadata": {},
   "outputs": [
    {
     "name": "stdout",
     "output_type": "stream",
     "text": [
      "47196\n",
      "1\n",
      "1\n"
     ]
    }
   ],
   "source": [
    "import requests\n",
    "import json\n",
    "\n",
    "headers = {'User-Agent' : 'https://github.com/abhishekanand', 'From' : 'anand1@uw.edu'}\n",
    "\n",
    "def get_ores_data(revision_ids, headers):\n",
    "    \n",
    "    # Define the endpoint\n",
    "    endpoint = 'https://ores.wikimedia.org/v3/scores/{project}/?models={model}&revids={revids}'\n",
    "    \n",
    "    # Specify the parameters - smushing all the revision IDs together separated by | marks.\n",
    "    # Yes, 'smush' is a technical term, trust me I'm a scientist.\n",
    "    # What do you mean \"but people trusting scientists regularly goes horribly wrong\" who taught you tha- oh.  \n",
    "    params = {'project' : 'enwiki',\n",
    "              'model'   : 'wp10',\n",
    "              'revids'  : '|'.join(str(x) for x in revision_ids)\n",
    "              }\n",
    "    api_call = requests.get(endpoint.format(**params))\n",
    "    response = api_call.json()\n",
    "    #print(json.dumps(response, indent=4, sort_keys=True))\n",
    "\n",
    "\n",
    "# So if we grab some example revision IDs and turn them into a list and then call get_ores_data...\n",
    "#example_ids = [783381498, 807355596, 757539710]\n",
    "#get_ores_data(example_ids, headers)\n",
    "\n",
    "\n",
    "#get_ores_data(example_ids, headers)\n",
    "no_revision_ids = len(page_data)\n",
    "print(no_revision_ids)\n",
    "\n",
    "# getting all the revision ids from page_data in list format\n",
    "revision_ids = list(page_data.keys())\n",
    "\n",
    "\n",
    "counter = 0\n",
    "call_count = 0\n",
    "\n",
    "# this contains revsion id as key and article quality as value\n",
    "data_revision_quality  = {}\n",
    "\n",
    "\n",
    "while(counter<no_revision_ids and (counter+100)<no_revision_ids):\n",
    "    get_ores_data(revision_ids[counter:counter+5], headers)\n",
    "    counter = counter + 100\n",
    "    call_count = call_count + 1\n",
    "    print(call_count)\n",
    "    break\n",
    "    \n",
    "if(counter>no_revision_ids):\n",
    "    get_ores_data(revision_ids[counter-100:no_revision_ids%100], headers)\n",
    "    prin(\"hello different\")\n",
    "    \n",
    "print(call_count)"
   ]
  },
  {
   "cell_type": "code",
   "execution_count": null,
   "metadata": {
    "collapsed": true
   },
   "outputs": [],
   "source": []
  },
  {
   "cell_type": "code",
   "execution_count": null,
   "metadata": {
    "collapsed": true
   },
   "outputs": [],
   "source": []
  },
  {
   "cell_type": "code",
   "execution_count": null,
   "metadata": {
    "collapsed": true
   },
   "outputs": [],
   "source": []
  }
 ],
 "metadata": {
  "kernelspec": {
   "display_name": "Python 3",
   "language": "python",
   "name": "python3"
  },
  "language_info": {
   "codemirror_mode": {
    "name": "ipython",
    "version": 3
   },
   "file_extension": ".py",
   "mimetype": "text/x-python",
   "name": "python",
   "nbconvert_exporter": "python",
   "pygments_lexer": "ipython3",
   "version": "3.6.3"
  }
 },
 "nbformat": 4,
 "nbformat_minor": 2
}
