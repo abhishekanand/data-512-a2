{
 "cells": [
  {
   "cell_type": "markdown",
   "metadata": {},
   "source": [
    "### A2: Bias in data"
   ]
  },
  {
   "cell_type": "markdown",
   "metadata": {},
   "source": [
    "### Getting the article and population data"
   ]
  },
  {
   "cell_type": "code",
   "execution_count": 1,
   "metadata": {
    "collapsed": true
   },
   "outputs": [],
   "source": [
    "## getting the data from the CSV files\n",
    "import csv\n",
    "\n",
    "\n"
   ]
  },
  {
   "cell_type": "code",
   "execution_count": null,
   "metadata": {
    "collapsed": true
   },
   "outputs": [],
   "source": []
  },
  {
   "cell_type": "code",
   "execution_count": 8,
   "metadata": {},
   "outputs": [
    {
     "name": "stdout",
     "output_type": "stream",
     "text": [
      "47197\n"
     ]
    }
   ],
   "source": [
    "# reading data and saving in dictionary of dictionaries\n",
    "'''\n",
    "{\n",
    "    \"revision_id\": {\n",
    "        \"country\": \"\",\n",
    "        \"article_name\": \"\",\n",
    "        \"revision_id\":\"\",\n",
    "    },\n",
    "    \"revision_id\": {\n",
    "    \n",
    "    },\n",
    "    ...\n",
    "}\n",
    "'''\n",
    "\n",
    "page_data = dict()\n",
    "skip_lines = 1\n",
    "\n",
    "with open('page_data.csv', encoding=\"utf8\") as csvfile:\n",
    "    reader = csv.reader(csvfile)\n",
    "    for row in reader:\n",
    "        #page_data.append([row[0],row[1],row[2]])\n",
    "        #['Template:ZambiaProvincialMinisters', 'Zambia', '235107991']\n",
    "        if(skip_lines!=1):\n",
    "            revision_id = row[2]\n",
    "            page_data[revision_id]=dict()\n",
    "            page_data[revision_id][\"country\"] = row[1]\n",
    "            page_data[revision_id][\"article_name\"] = row[0]\n",
    "            page_data[revision_id][\"revision_id\"] = row[2] \n",
    "            \n",
    "        skip_lines = skip_lines+1\n",
    "print(len((page_data)))"
   ]
  },
  {
   "cell_type": "code",
   "execution_count": null,
   "metadata": {
    "collapsed": true
   },
   "outputs": [],
   "source": []
  },
  {
   "cell_type": "code",
   "execution_count": 18,
   "metadata": {},
   "outputs": [
    {
     "name": "stdout",
     "output_type": "stream",
     "text": [
      "{'Afghanistan': '32,247,000', 'Albania': '2,892,000', 'Algeria': '39,948,000', 'Andorra': '78,000', 'Angola': '25,000,000', 'Antigua and Barbuda': '90,000', 'Argentina': '42,426,000', 'Armenia': '3,017,106', 'Australia': '23,888,000', 'Austria': '8,615,955', 'Azerbaijan': '9,651,000', 'Bahamas': '377,000', 'Bahrain': '1,412,299', 'Bangladesh': '160,411,000', 'Barbados': '278,000', 'Belarus': '9,524,247', 'Belgium': '11,211,064', 'Belize': '368,000', 'Benin': '10,583,034', 'Bhutan': '757,000', 'Bolivia': '10,475,500', 'Bosnia-Herzegovina': '3,650,114', 'Botswana': '2,139,900', 'Brazil': '204,519,398', 'Brunei': '413,000', 'Bulgaria': '7,181,000', 'Burkina Faso': '18,450,400', 'Burundi': '10,742,000', 'Cambodia': '15,417,100', 'Cameroon': '23,739,000', 'Canada': '35,833,000', 'Cape Verde': '514,000', 'Central African Republic': '5,551,900', 'Chad': '13,707,000', 'Channel Islands': '164,000', 'Chile': '18,025,000', 'China': '1,371,920,000', 'Colombia': '48,218,000', 'Comoros': '764,000', 'Congo': '4,755,000', 'Congo, Dem. Rep. of': '73,340,200', 'Costa Rica': '4,832,000', \"Cote d'Ivoire\": '23,281,300', 'Croatia': '4,215,000', 'Cuba': '11,139,000', 'Curacao': '158,000', 'Cyprus': '1,153,000', 'Czech Republic': '10,551,227', 'Denmark': '5,676,025', 'Djibouti': '900,000', 'Dominica': '68,000', 'Dominican Republic': '10,508,000', 'Ecuador': '16,279,000', 'Egypt': '89,074,000', 'El Salvador': '6,366,000', 'Equatorial Guinea': '805,000', 'Eritrea': '5,200,000', 'Estonia': '1,310,504', 'Ethiopia': '98,148,000', 'Federated States of Micronesia': '103,000', 'Fiji': '867,000', 'Finland': '5,476,031', 'France': '64,346,720', 'French Guiana': '251,000', 'French Polynesia': '263,000', 'Gabon': '1,751,000', 'Gambia': '2,021,893', 'Georgia': '3,804,000', 'Germany': '81,132,000', 'Ghana': '27,672,800', 'Greece': '11,520,785', 'Grenada': '111,000', 'Guadeloupe': '407,000', 'Guam': '184,200', 'Guatemala': '16,183,752', 'Guinea': '10,985,600', 'Guinea-Bissau': '1,788,000', 'Guyana': '743,000', 'Haiti': '10,924,000', 'Honduras': '8,340,000', 'Hong Kong, SAR': '7,286,402', 'Hungary': '9,835,030', 'Iceland': '330,828', 'India': '1,314,097,616', 'Indonesia': '255,741,973', 'Iran': '78,483,446', 'Iraq': '37,056,000', 'Ireland': '4,630,308', 'Israel': '8,375,384', 'Italy': '62,466,780', 'Jamaica': '2,727,000', 'Japan': '126,866,820', 'Jordan': '8,118,000', 'Kazakhstan': '17,544,274', 'Kenya': '44,306,000', 'Kiribati': '113,400', 'Korea, North': '24,983,000', 'Korea, South': '50,713,867', 'Kosovo': '1,802,000', 'Kuwait': '3,837,700', 'Kyrgyzstan': '5,951,000', 'Laos': '6,903,049', 'Latvia': '1,978,454', 'Lebanon': '6,185,000', 'Lesotho': '1,924,381', 'Liberia': '4,503,000', 'Libya': '6,317,000', 'Liechtenstein': '37,570', 'Lithuania': '2,911,203', 'Luxembourg': '569,202', 'Macao, SAR': '658,611', 'Macedonia': '2,070,100', 'Madagascar': '23,047,400', 'Malawi': '17,174,000', 'Malaysia': '30,788,840', 'Maldives': '346,946', 'Mali': '16,749,000', 'Malta': '431,486', 'Marshall Islands': '55,000', 'Martinique': '379,000', 'Mauritania': '3,641,288', 'Mauritius': '1,262,660', 'Mayotte': '229,890', 'Mexico': '127,017,000', 'Moldova': '4,109,000', 'Monaco': '38,088', 'Mongolia': '3,029,335', 'Montenegro': '622,421', 'Morocco': '34,121,000', 'Mozambique': '25,736,000', 'Myanmar': '52,147,000', 'Namibia': '2,482,100', 'Nauru': '10,860', 'Nepal': '28,039,000', 'Netherlands': '16,942,373', 'New Caledonia': '271,974', 'New Zealand': '4,598,066', 'Nicaragua': '6,262,000', 'Niger': '18,884,462', 'Nigeria': '181,839,400', 'Norway': '5,194,411', 'Oman': '4,201,000', 'Pakistan': '199,047,300', 'Palau': '18,000', 'Palestinian Territory': '4,481,195', 'Panama': '3,980,000', 'Papua New Guinea': '7,744,600', 'Paraguay': '7,020,000', 'Peru': '31,151,643', 'Philippines': '102,965,300', 'Poland': '38,478,001', 'Portugal': '10,349,000', 'Puerto Rico': '3,502,000', 'Qatar': '2,394,524', 'Reunion': '851,060', 'Romania': '19,838,662', 'Russia': '144,302,000', 'Rwanda': '11,331,300', 'Samoa': '194,210', 'San Marino': '33,000', 'Sao Tome and Principe': '195,570', 'Saudi Arabia': '31,565,109', 'Senegal': '14,690,400', 'Serbia': '7,097,190', 'Seychelles': '92,833', 'Sierra Leone': '6,502,960', 'Singapore': '5,541,121', 'Slovakia': '5,424,051', 'Slovenia': '2,064,000', 'Solomon Islands': '641,900', 'Somalia': '11,123,000', 'South Africa': '55,041,000', 'South Sudan': '12,152,000', 'Spain': '46,368,000', 'Sri Lanka': '20,868,800', 'St. Kitts-Nevis': '46,000', 'St. Lucia': '175,000', 'St. Vincent & the Grenadines': '110,000', 'Sudan': '40,883,900', 'Suriname': '576,000', 'Swaziland': '1,286,000', 'Sweden': '9,804,792', 'Switzerland': '8,292,851', 'Syria': '17,065,000', 'Taiwan': '23,468,000', 'Tajikistan': '8,452,153', 'Tanzania': '52,291,000', 'Thailand': '65,121,250', 'Timor-Leste': '1,244,759', 'Togo': '7,231,000', 'Tonga': '103,300', 'Trinidad and Tobago': '1,351,000', 'Tunisia': '11,026,000', 'Turkey': '78,215,000', 'Turkmenistan': '5,373,000', 'Tuvalu': '11,800', 'Uganda': '40,141,000', 'Ukraine': '42,828,300', 'United Arab Emirates': '9,577,000', 'United Kingdom': '65,092,000', 'United States': '321,234,172', 'Uruguay': '3,562,000', 'Uzbekistan': '31,290,791', 'Vanuatu': '277,500', 'Venezuela': '30,620,000', 'Vietnam': '91,714,080', 'Western Sahara': '604,000', 'Yemen': '26,737,000', 'Zambia': '15,473,900', 'Zimbabwe': '17,354,000'}\n"
     ]
    }
   ],
   "source": [
    "\n",
    "'''\n",
    "{\n",
    "    \"country_name_1\":\"population\",\n",
    "    \"country_name_1\":\"population\"\n",
    "}\n",
    "\n",
    "'''\n",
    "population_data = {}\n",
    "\n",
    "# skip twolines from input csv file \n",
    "skip_lines = 1\n",
    "with open('Population Mid-2015.csv', encoding=\"utf8\") as csvfile:\n",
    "    reader = csv.reader(csvfile)\n",
    "    for row in reader:\n",
    "        # last line in the raw data file is an empty line\n",
    "        # skip_lines > 2 skips first two lines\n",
    "        # row checks if the read list is empty\n",
    "        #print(row)\n",
    "        if(skip_lines>3 and row):\n",
    "            # ['Afghanistan', 'Country', 'Mid-2015', 'Number', '32,247,000', '']\n",
    "            population_data[row[0]] = row[4]\n",
    "        skip_lines = skip_lines + 1\n",
    "        \n",
    "print(population_data)"
   ]
  },
  {
   "cell_type": "code",
   "execution_count": 56,
   "metadata": {},
   "outputs": [
    {
     "name": "stdout",
     "output_type": "stream",
     "text": [
      "no of entries which have popluation  = 0\n",
      "1397\n"
     ]
    }
   ],
   "source": [
    "# merging data set from wikipedia data(page_data) and population data(population_data)\n",
    "# reading data from page_data and including poulation data\n",
    "'''\n",
    "{\n",
    "    \"revision_id\": {\n",
    "        \"country\": \"\",\n",
    "        \"article_name\": \"\",\n",
    "        \"revision_id\":\"\",\n",
    "        \"population\":\"\"\n",
    "    },\n",
    "    \"revision_id\": {\n",
    "    \n",
    "    },\n",
    "    ...\n",
    "}\n",
    "'''\n",
    "count=0\n",
    "for key,value in page_data.items():\n",
    "    revision_id = key\n",
    "    #print(key)\n",
    "    \n",
    "    country_page_data = value[\"country\"]\n",
    "    #print(country_page_data)\n",
    "    \n",
    "    if population_data.get(str(country_page_data)) is not None:\n",
    "        page_data[revision_id][\"population\"] = population\n",
    "    else:\n",
    "        # for now setting population as 0 for countries which are not preset in population_data\n",
    "        page_data[revision_id][\"population\"] = 0\n",
    "        count = count+1\n",
    "        \n",
    "print(\"no of entries which have popluation  = 0\")      \n",
    "print(count)\n",
    "\n"
   ]
  },
  {
   "cell_type": "markdown",
   "metadata": {},
   "source": [
    "### Getting article quality predictions"
   ]
  },
  {
   "cell_type": "code",
   "execution_count": 120,
   "metadata": {},
   "outputs": [
    {
     "name": "stdout",
     "output_type": "stream",
     "text": [
      "47196\n",
      "*************************************\n",
      "*************************************\n",
      "hello different\n"
     ]
    }
   ],
   "source": [
    "import requests\n",
    "import json\n",
    "\n",
    "headers = {'User-Agent' : 'https://github.com/abhishekanand', 'From' : 'anand1@uw.edu'}\n",
    "\n",
    "def get_ores_data(revision_ids, headers):\n",
    "    \n",
    "    # Define the endpoint\n",
    "    endpoint = 'https://ores.wikimedia.org/v3/scores/{project}/?models={model}&revids={revids}'\n",
    "    \n",
    "    # Specify the parameters - smushing all the revision IDs together separated by | marks.\n",
    "    # Yes, 'smush' is a technical term, trust me I'm a scientist.\n",
    "    # What do you mean \"but people trusting scientists regularly goes horribly wrong\" who taught you tha- oh.  \n",
    "    params = {'project' : 'enwiki',\n",
    "              'model'   : 'wp10',\n",
    "              'revids'  : '|'.join(str(x) for x in revision_ids)\n",
    "              }\n",
    "    api_call = requests.get(endpoint.format(**params))\n",
    "    response = api_call.json()\n",
    "    json.dumps(response, indent=4, sort_keys=True)\n",
    "    #print(response)\n",
    "    return response\n",
    "\n",
    "\n",
    "# So if we grab some example revision IDs and turn them into a list and then call get_ores_data...\n",
    "#example_ids = [783381498, 807355596, 757539710]\n",
    "#get_ores_data(example_ids, headers)\n",
    "\n",
    "\n",
    "#get_ores_data(example_ids, headers)\n",
    "no_revision_ids = len(page_data)\n",
    "print(no_revision_ids)\n",
    "\n",
    "# getting all the revision ids from page_data in list format\n",
    "revision_ids = list(page_data.keys())\n",
    "\n",
    "\n",
    "counter = 0\n",
    "call_count = 0\n",
    "\n",
    "# this contains revsion id as key and article quality as value\n",
    "data_revision_quality  = {}\n",
    "\n",
    "\n",
    "\n",
    "# prediction is being added in page_data\n",
    "'''\n",
    "{\n",
    "    \"revision_id\": {\n",
    "        \"country\": \"\",\n",
    "        \"article_name\": \"\",\n",
    "        \"revision_id\":\"\",\n",
    "        \"population\":\"\",\n",
    "        \"article_quality\":\"\"\n",
    "    },\n",
    "    \"revision_id\": {\n",
    "    \n",
    "    },\n",
    "    ...\n",
    "}\n",
    "'''\n",
    "\n",
    "while(counter<no_revision_ids):\n",
    "    temp = get_ores_data(revision_ids[counter:counter+100], headers)\n",
    "    hundred_revisions = temp[\"enwiki\"][\"scores\"]\n",
    "    \n",
    "    for key, value in hundred_revisions.items():\n",
    "        revision = key\n",
    "        if value[\"wp10\"].get(\"score\") is not None:\n",
    "            prediction = value[\"wp10\"][\"score\"][\"prediction\"]\n",
    "            page_data[revision][\"article_quality\"] = prediction\n",
    "            #print(page_data[revision])\n",
    "        else:\n",
    "            print(\"*************************************\")\n",
    "        \n",
    "        \n",
    "    counter = counter + 100\n",
    "    call_count = call_count + 1\n",
    "    \n",
    "    \n",
    "if(counter>no_revision_ids):\n",
    "    temp = get_ores_data(revision_ids[counter-100:(counter-100)+no_revision_ids%100], headers)\n",
    "    left_revisions = temp[\"enwiki\"][\"scores\"]\n",
    "    \n",
    "    counter = counter-100\n",
    "    call_count = call_count + 1\n",
    "    \n",
    "    for key, value in left_revisions.items():\n",
    "        revision = key\n",
    "        counter = counter + 1\n",
    "        if value[\"wp10\"].get(\"score\") is not None:\n",
    "            prediction = value[\"wp10\"][\"score\"][\"prediction\"]\n",
    "            page_data[revision][\"article_quality\"] = prediction\n",
    "            #print(page_data[revision])\n",
    "\n",
    "    "
   ]
  },
  {
   "cell_type": "code",
   "execution_count": 121,
   "metadata": {},
   "outputs": [
    {
     "name": "stdout",
     "output_type": "stream",
     "text": [
      "47196\n",
      "473\n",
      "96\n"
     ]
    }
   ],
   "source": [
    "print(counter)\n",
    "print(call_count)\n",
    "print(no_revision_ids%100)"
   ]
  },
  {
   "cell_type": "code",
   "execution_count": 125,
   "metadata": {},
   "outputs": [
    {
     "name": "stdout",
     "output_type": "stream",
     "text": [
      "{'country': 'Zambia', 'article_name': 'Template:ZambiaProvincialMinisters', 'revision_id': '235107991', 'population': '4,832,000', 'prediction': 'Stub', 'article_quality': 'Stub'}\n",
      "{'country': 'Chad', 'article_name': 'Bir I of Kanem', 'revision_id': '355319463', 'population': '4,832,000', 'prediction': 'Stub', 'article_quality': 'Stub'}\n",
      "{'country': 'Zimbabwe', 'article_name': 'Template:Zimbabwe-politician-stub', 'revision_id': '391862046', 'population': '4,832,000', 'prediction': 'Stub', 'article_quality': 'Stub'}\n",
      "{'country': 'Uganda', 'article_name': 'Template:Uganda-politician-stub', 'revision_id': '391862070', 'population': '4,832,000', 'prediction': 'Stub', 'article_quality': 'Stub'}\n",
      "{'country': 'Namibia', 'article_name': 'Template:Namibia-politician-stub', 'revision_id': '391862409', 'population': '4,832,000', 'prediction': 'Stub', 'article_quality': 'Stub'}\n",
      "{'country': 'Nigeria', 'article_name': 'Template:Nigeria-politician-stub', 'revision_id': '391862819', 'population': '4,832,000', 'prediction': 'Stub', 'article_quality': 'Stub'}\n",
      "{'country': 'Colombia', 'article_name': 'Template:Colombia-politician-stub', 'revision_id': '391863340', 'population': '4,832,000', 'prediction': 'Stub', 'article_quality': 'Stub'}\n",
      "{'country': 'Chile', 'article_name': 'Template:Chile-politician-stub', 'revision_id': '391863361', 'population': '4,832,000', 'prediction': 'Stub', 'article_quality': 'Stub'}\n",
      "{'country': 'Fiji', 'article_name': 'Template:Fiji-politician-stub', 'revision_id': '391863617', 'population': '4,832,000', 'prediction': 'Stub', 'article_quality': 'Stub'}\n",
      "{'country': 'Solomon Islands', 'article_name': 'Template:Solomons-politician-stub', 'revision_id': '391863809', 'population': '4,832,000', 'prediction': 'Stub', 'article_quality': 'Stub'}\n",
      "{'country': 'Palestinian Territory', 'article_name': 'Information Minister of the Palestinian National Authority', 'revision_id': '393276188', 'population': '4,832,000', 'prediction': 'Stub', 'article_quality': 'Stub'}\n",
      "{'country': 'Somalia', 'article_name': 'Template:Somalia-politician-stub', 'revision_id': '393298432', 'population': '4,832,000', 'prediction': 'Stub', 'article_quality': 'Stub'}\n",
      "{'country': 'Cambodia', 'article_name': 'Yos Por', 'revision_id': '393822005', 'population': '4,832,000', 'prediction': 'Stub', 'article_quality': 'Stub'}\n",
      "{'country': 'Slovakia', 'article_name': 'Template:Slovakia-politician-stub', 'revision_id': '394482629', 'population': '4,832,000', 'prediction': 'Stub', 'article_quality': 'Stub'}\n",
      "{'country': 'Slovenia', 'article_name': 'Template:Slovenia-politician-stub', 'revision_id': '394482891', 'population': '4,832,000', 'prediction': 'Stub', 'article_quality': 'Stub'}\n",
      "{'country': 'Afghanistan', 'article_name': 'Template:Afghanistan-politician-stub', 'revision_id': '394580295', 'population': '4,832,000', 'prediction': 'Stub', 'article_quality': 'Stub'}\n",
      "{'country': 'Iraq', 'article_name': 'Template:Iraq-politician-stub', 'revision_id': '394580630', 'population': '4,832,000', 'prediction': 'Stub', 'article_quality': 'Stub'}\n",
      "{'country': 'Nepal', 'article_name': 'Template:Nepal-politician-stub', 'revision_id': '394580939', 'population': '4,832,000', 'prediction': 'Stub', 'article_quality': 'Stub'}\n",
      "{'country': 'Sri Lanka', 'article_name': 'Template:SriLanka-politician-stub', 'revision_id': '394580993', 'population': '4,832,000', 'prediction': 'Stub', 'article_quality': 'Stub'}\n",
      "{'country': 'Laos', 'article_name': 'Template:Laos-politician-stub', 'revision_id': '394581284', 'population': '4,832,000', 'prediction': 'Stub', 'article_quality': 'Stub'}\n",
      "{'country': 'Albania', 'article_name': 'Template:Albania-politician-stub', 'revision_id': '394581557', 'population': '4,832,000', 'prediction': 'Stub', 'article_quality': 'Stub'}\n",
      "{'country': 'Costa Rica', 'article_name': 'Template:CostaRica-politician-stub', 'revision_id': '394587483', 'population': '4,832,000', 'prediction': 'Stub', 'article_quality': 'Stub'}\n",
      "{'country': 'Czech Republic', 'article_name': 'Julius Gregr', 'revision_id': '395521877', 'population': '4,832,000', 'prediction': 'Stub', 'article_quality': 'Stub'}\n",
      "{'country': 'Czech Republic', 'article_name': 'Edvard Gregr', 'revision_id': '395526568', 'population': '4,832,000', 'prediction': 'Stub', 'article_quality': 'Stub'}\n",
      "{'country': 'Canada', 'article_name': 'Robert Douglas Cook', 'revision_id': '401577829', 'population': '4,832,000', 'prediction': 'Stub', 'article_quality': 'Stub'}\n",
      "{'country': 'Tunisia', 'article_name': 'Template:Tunisia-politician-stub', 'revision_id': '413885084', 'population': '4,832,000', 'prediction': 'Stub', 'article_quality': 'Stub'}\n",
      "{'country': 'Guatemala', 'article_name': 'Template:Guatemala-politician-stub', 'revision_id': '433871129', 'population': '4,832,000', 'prediction': 'Stub', 'article_quality': 'Stub'}\n",
      "{'country': 'Burkina Faso', 'article_name': 'Template:BurkinaFaso-politician-stub', 'revision_id': '433871165', 'population': '4,832,000', 'prediction': 'Stub', 'article_quality': 'Stub'}\n",
      "{'country': 'Angola', 'article_name': 'Template:Angola-politician-stub', 'revision_id': '435008715', 'population': '4,832,000', 'prediction': 'Stub', 'article_quality': 'Stub'}\n",
      "{'country': 'Panama', 'article_name': 'Template:Panama-politician-stub', 'revision_id': '437454659', 'population': '4,832,000', 'prediction': 'Stub', 'article_quality': 'Stub'}\n",
      "{'country': 'Japan', 'article_name': 'Template:Japan-politician-1980s-stub', 'revision_id': '437735138', 'population': '4,832,000', 'prediction': 'Stub', 'article_quality': 'Stub'}\n",
      "{'country': 'Indonesia', 'article_name': 'Template:Indonesia-politician-stub', 'revision_id': '438305657', 'population': '4,832,000', 'prediction': 'Stub', 'article_quality': 'Stub'}\n",
      "{'country': 'Madagascar', 'article_name': 'Template:Madagascar-politician-stub', 'revision_id': '439671509', 'population': '4,832,000', 'prediction': 'Stub', 'article_quality': 'Stub'}\n",
      "{'country': 'Malaysia', 'article_name': 'Template:Malaysia-politician-stub', 'revision_id': '439708117', 'population': '4,832,000', 'prediction': 'Stub', 'article_quality': 'Stub'}\n",
      "{'country': 'Gabon', 'article_name': 'Template:Gabon-politician-stub', 'revision_id': '440397578', 'population': '4,832,000', 'prediction': 'Stub', 'article_quality': 'Stub'}\n",
      "{'country': 'Germany', 'article_name': 'Template:Germany-DDP-politician-stub', 'revision_id': '440594068', 'population': '4,832,000', 'prediction': 'Stub', 'article_quality': 'Stub'}\n",
      "{'country': 'Germany', 'article_name': 'Template:Germany-Centre-politician-stub', 'revision_id': '440598656', 'population': '4,832,000', 'prediction': 'Stub', 'article_quality': 'Stub'}\n",
      "{'country': 'Liberia', 'article_name': 'Template:Liberia-politician-stub', 'revision_id': '441172886', 'population': '4,832,000', 'prediction': 'Stub', 'article_quality': 'Stub'}\n",
      "{'country': 'Ghana', 'article_name': 'Template:Ghana-politician-stub', 'revision_id': '441186581', 'population': '4,832,000', 'prediction': 'Stub', 'article_quality': 'Stub'}\n",
      "{'country': 'Peru', 'article_name': 'Template:Peru-politician-stub', 'revision_id': '441771813', 'population': '4,832,000', 'prediction': 'Stub', 'article_quality': 'Stub'}\n",
      "{'country': 'Argentina', 'article_name': 'Template:Argentina-politician-stub', 'revision_id': '441995465', 'population': '4,832,000', 'prediction': 'Stub', 'article_quality': 'Stub'}\n",
      "{'country': 'Spain', 'article_name': 'Template:Catalonia-politician-stub', 'revision_id': '442411422', 'population': '4,832,000', 'prediction': 'Stub', 'article_quality': 'Stub'}\n",
      "{'country': 'South Africa', 'article_name': 'Template:SouthAfrica-politician-stub', 'revision_id': '442913438', 'population': '4,832,000', 'prediction': 'Stub', 'article_quality': 'Stub'}\n",
      "{'country': 'Egypt', 'article_name': 'List of Grand Viziers of Egypt', 'revision_id': '442937236', 'population': '4,832,000', 'prediction': 'Stub', 'article_quality': 'Stub'}\n",
      "{'country': 'Costa Rica', 'article_name': 'Template:CostaRica-mayor-stub', 'revision_id': '443468553', 'population': '4,832,000', 'prediction': 'Stub', 'article_quality': 'Stub'}\n",
      "{'country': 'Hondura', 'article_name': 'Template:Honduras-mayor-stub', 'revision_id': '443469862', 'population': 0, 'prediction': 'Stub', 'article_quality': 'Stub'}\n",
      "{'country': 'Nicaragua', 'article_name': 'Template:Nicaragua-mayor-stub', 'revision_id': '443470532', 'population': '4,832,000', 'prediction': 'Stub', 'article_quality': 'Stub'}\n",
      "{'country': 'Afghanistan', 'article_name': 'Template:Afghanistan-mayor-stub', 'revision_id': '443496992', 'population': '4,832,000', 'prediction': 'Stub', 'article_quality': 'Stub'}\n",
      "{'country': 'Bangladesh', 'article_name': 'Template:Bangladesh-mayor-stub', 'revision_id': '443497423', 'population': '4,832,000', 'prediction': 'Stub', 'article_quality': 'Stub'}\n",
      "{'country': 'Cambodia', 'article_name': 'Template:Cambodia-mayor-stub', 'revision_id': '443497605', 'population': '4,832,000', 'prediction': 'Stub', 'article_quality': 'Stub'}\n",
      "{'country': 'India', 'article_name': 'Template:India-mayor-stub', 'revision_id': '443498496', 'population': '4,832,000', 'prediction': 'Stub', 'article_quality': 'Stub'}\n",
      "{'country': 'Iran', 'article_name': 'Template:Iran-mayor-stub', 'revision_id': '443499145', 'population': '4,832,000', 'prediction': 'Stub', 'article_quality': 'Stub'}\n",
      "{'country': 'Iraq', 'article_name': 'Template:Iraq-mayor-stub', 'revision_id': '443499367', 'population': '4,832,000', 'prediction': 'Stub', 'article_quality': 'Stub'}\n",
      "{'country': 'Argentina', 'article_name': 'Template:Argentina-mayor-stub', 'revision_id': '443521996', 'population': '4,832,000', 'prediction': 'Stub', 'article_quality': 'Stub'}\n",
      "{'country': 'Philippines', 'article_name': 'Template:Philippines-mayor-stub', 'revision_id': '443628777', 'population': '4,832,000', 'prediction': 'Stub', 'article_quality': 'Stub'}\n",
      "{'country': 'Sri Lanka', 'article_name': 'Template:SriLanka-mayor-stub', 'revision_id': '443632023', 'population': '4,832,000', 'prediction': 'Stub', 'article_quality': 'Stub'}\n",
      "{'country': 'Turkey', 'article_name': 'Template:Turkey-mayor-stub', 'revision_id': '443633073', 'population': '4,832,000', 'prediction': 'Stub', 'article_quality': 'Stub'}\n",
      "{'country': 'Albania', 'article_name': 'Template:Albania-mayor-stub', 'revision_id': '443634517', 'population': '4,832,000', 'prediction': 'Stub', 'article_quality': 'Stub'}\n",
      "{'country': 'Austria', 'article_name': 'Template:Austria-mayor-stub', 'revision_id': '443640939', 'population': '4,832,000', 'prediction': 'Stub', 'article_quality': 'Stub'}\n",
      "{'country': 'Azerbaijan', 'article_name': 'Template:Azerbaijan-mayor-stub', 'revision_id': '443641865', 'population': '4,832,000', 'prediction': 'Stub', 'article_quality': 'Stub'}\n",
      "{'country': 'Haiti', 'article_name': 'Template:Haiti-politician-stub', 'revision_id': '444002354', 'population': '4,832,000', 'prediction': 'Stub', 'article_quality': 'Stub'}\n",
      "{'country': 'Greece', 'article_name': 'Template:Greece-mayor-stub', 'revision_id': '444023126', 'population': '4,832,000', 'prediction': 'Stub', 'article_quality': 'Stub'}\n",
      "{'country': 'Hungary', 'article_name': 'Template:Hungary-mayor-stub', 'revision_id': '444023605', 'population': '4,832,000', 'prediction': 'Stub', 'article_quality': 'Stub'}\n",
      "{'country': 'Iceland', 'article_name': 'Template:Iceland-mayor-stub', 'revision_id': '444023818', 'population': '4,832,000', 'prediction': 'Stub', 'article_quality': 'Stub'}\n",
      "{'country': 'Moldova', 'article_name': 'Template:Moldova-mayor-stub', 'revision_id': '444031013', 'population': '4,832,000', 'prediction': 'Stub', 'article_quality': 'Stub'}\n",
      "{'country': 'Romania', 'article_name': 'Template:Romania-mayor-stub', 'revision_id': '444036980', 'population': '4,832,000', 'prediction': 'Stub', 'article_quality': 'Stub'}\n",
      "{'country': 'Czech Republic', 'article_name': 'Template:CzechRepublic-mayor-stub', 'revision_id': '444371643', 'population': '4,832,000', 'prediction': 'Stub', 'article_quality': 'Stub'}\n",
      "{'country': 'Poland', 'article_name': 'Template:Poland-mayor-stub', 'revision_id': '444373997', 'population': '4,832,000', 'prediction': 'Stub', 'article_quality': 'Stub'}\n",
      "{'country': 'Luxembourg', 'article_name': 'Template:Luxembourg-politician-stub', 'revision_id': '444377000', 'population': '4,832,000', 'prediction': 'Stub', 'article_quality': 'Stub'}\n",
      "{'country': 'Luxembourg', 'article_name': 'Template:Luxembourg-mayor-stub', 'revision_id': '444381930', 'population': '4,832,000', 'prediction': 'Stub', 'article_quality': 'Stub'}\n",
      "{'country': 'Denmark', 'article_name': 'Template:Denmark-mayor-stub', 'revision_id': '444431830', 'population': '4,832,000', 'prediction': 'Stub', 'article_quality': 'Stub'}\n",
      "{'country': 'Namibia', 'article_name': 'Template:Namibia-mayor-stub', 'revision_id': '444756008', 'population': '4,832,000', 'prediction': 'Stub', 'article_quality': 'Stub'}\n",
      "{'country': 'South Africa', 'article_name': 'Template:SouthAfrica-mayor-stub', 'revision_id': '444756369', 'population': '4,832,000', 'prediction': 'Stub', 'article_quality': 'Stub'}\n",
      "{'country': 'Burkina Faso', 'article_name': 'Template:BurkinaFaso-mayor-stub', 'revision_id': '444759010', 'population': '4,832,000', 'prediction': 'Stub', 'article_quality': 'Stub'}\n",
      "{'country': 'Gabon', 'article_name': 'Template:Gabon-mayor-stub', 'revision_id': '444762949', 'population': '4,832,000', 'prediction': 'Stub', 'article_quality': 'Stub'}\n",
      "{'country': 'Kenya', 'article_name': 'Template:Kenya-mayor-stub', 'revision_id': '444766243', 'population': '4,832,000', 'prediction': 'Stub', 'article_quality': 'Stub'}\n",
      "{'country': 'Liberia', 'article_name': 'Template:Liberia-mayor-stub', 'revision_id': '444766443', 'population': '4,832,000', 'prediction': 'Stub', 'article_quality': 'Stub'}\n",
      "{'country': 'Somalia', 'article_name': 'Template:Somalia-mayor-stub', 'revision_id': '444767261', 'population': '4,832,000', 'prediction': 'Stub', 'article_quality': 'Stub'}\n",
      "{'country': 'Tunisia', 'article_name': 'Template:Tunisia-mayor-stub', 'revision_id': '444767517', 'population': '4,832,000', 'prediction': 'Stub', 'article_quality': 'Stub'}\n",
      "{'country': 'Uganda', 'article_name': 'Template:Uganda-mayor-stub', 'revision_id': '444767727', 'population': '4,832,000', 'prediction': 'Stub', 'article_quality': 'Stub'}\n",
      "{'country': 'Zimbabwe', 'article_name': 'Template:Zimbabwe-mayor-stub', 'revision_id': '444767985', 'population': '4,832,000', 'prediction': 'Stub', 'article_quality': 'Stub'}\n",
      "{'country': 'Ecuador', 'article_name': 'Template:Ecuador-mayor-stub', 'revision_id': '445199467', 'population': '4,832,000', 'prediction': 'Stub', 'article_quality': 'Stub'}\n",
      "{'country': 'Ecuador', 'article_name': 'Template:Ecuador-politician-stub', 'revision_id': '445225417', 'population': '4,832,000', 'prediction': 'Stub', 'article_quality': 'Stub'}\n",
      "{'country': 'Cambodia', 'article_name': 'Template:Cambodia-politician-stub', 'revision_id': '445365862', 'population': '4,832,000', 'prediction': 'Stub', 'article_quality': 'Stub'}\n",
      "{'country': 'Salvadoran', 'article_name': 'Template:ElSalvador-politician-stub', 'revision_id': '445403015', 'population': 0, 'prediction': 'Stub', 'article_quality': 'Stub'}\n",
      "{'country': 'Finland', 'article_name': 'Template:Finland-mayor-stub', 'revision_id': '445676138', 'population': '4,832,000', 'prediction': 'Stub', 'article_quality': 'Stub'}\n",
      "{'country': 'Portugal', 'article_name': 'Template:Portugal-mayor-stub', 'revision_id': '446008048', 'population': '4,832,000', 'prediction': 'Stub', 'article_quality': 'Stub'}\n",
      "{'country': 'Switzerland', 'article_name': 'Template:Switzerland-mayor-stub', 'revision_id': '446011535', 'population': '4,832,000', 'prediction': 'Stub', 'article_quality': 'Stub'}\n",
      "{'country': 'Sweden', 'article_name': 'Template:Sweden-mayor-stub', 'revision_id': '446019004', 'population': '4,832,000', 'prediction': 'Stub', 'article_quality': 'Stub'}\n",
      "{'country': 'Belgium', 'article_name': 'Template:Belgium-mayor-stub', 'revision_id': '446192353', 'population': '4,832,000', 'prediction': 'Stub', 'article_quality': 'Stub'}\n",
      "{'country': 'Spain', 'article_name': 'Template:Spain-mayor-stub', 'revision_id': '446194245', 'population': '4,832,000', 'prediction': 'Stub', 'article_quality': 'Stub'}\n",
      "{'country': 'Italy', 'article_name': 'Template:Italy-mayor-stub', 'revision_id': '446196171', 'population': '4,832,000', 'prediction': 'Stub', 'article_quality': 'Stub'}\n",
      "{'country': 'Mexico', 'article_name': 'Template:Mexico-mayor-stub', 'revision_id': '446200358', 'population': '4,832,000', 'prediction': 'Stub', 'article_quality': 'Stub'}\n",
      "{'country': 'Chile', 'article_name': 'Template:Chile-mayor-stub', 'revision_id': '446202781', 'population': '4,832,000', 'prediction': 'Stub', 'article_quality': 'Stub'}\n",
      "{'country': 'Peru', 'article_name': 'Template:Peru-mayor-stub', 'revision_id': '446205420', 'population': '4,832,000', 'prediction': 'Stub', 'article_quality': 'Stub'}\n",
      "{'country': 'Bolivia', 'article_name': 'Template:Bolivia-mayor-stub', 'revision_id': '446207794', 'population': '4,832,000', 'prediction': 'Stub', 'article_quality': 'Stub'}\n",
      "{'country': 'Colombia', 'article_name': 'Template:Colombia-mayor-stub', 'revision_id': '446214240', 'population': '4,832,000', 'prediction': 'Stub', 'article_quality': 'Stub'}\n",
      "{'country': 'Bulgaria', 'article_name': 'Template:Bulgaria-mayor-stub', 'revision_id': '446219671', 'population': '4,832,000', 'prediction': 'Stub', 'article_quality': 'Stub'}\n",
      "{'country': 'Serbia', 'article_name': 'Template:Serbia-mayor-stub', 'revision_id': '446221243', 'population': '4,832,000', 'prediction': 'Stub', 'article_quality': 'Stub'}\n",
      "{'country': 'Russia', 'article_name': 'Template:Russia-mayor-stub', 'revision_id': '446222994', 'population': '4,832,000', 'prediction': 'Stub', 'article_quality': 'Stub'}\n"
     ]
    }
   ],
   "source": [
    "# getting page_data into required csv format\n",
    "\n",
    "combined_data = []\n",
    "for key, value in page_data.items():\n",
    "    combined_data.append(value)\n",
    "    \n",
    "'''\n",
    "printing first 100 revision ids because of \n",
    "\"OPub data rate exceeded.\n",
    "The notebook server will temporarily stop sending output\n",
    "to the client in order to avoid crashing it.\n",
    "To change this limit, set the config variable\n",
    "`--NotebookApp.iopub_data_rate_limit`.\"\n",
    "'''\n",
    "for i in range(100):    \n",
    "    print(combined_data[i])\n",
    "    "
   ]
  },
  {
   "cell_type": "code",
   "execution_count": null,
   "metadata": {
    "collapsed": true
   },
   "outputs": [],
   "source": []
  },
  {
   "cell_type": "code",
   "execution_count": null,
   "metadata": {
    "collapsed": true
   },
   "outputs": [],
   "source": [
    "# The final data file should be named: en-wikipedia_traffic_200801-201709.csv\n",
    "import csv\n",
    "CSVOut = \"bias_in_data.csv\"\n",
    "with open(CSVOut, \"w\") as ofile:\n",
    "    ofile.write(\"country\" + \",\" + \"article_name\" + \",\" + \"revision_id\"+\",\" + \"article_quality\"+\",\" + \"population\"+ \"\\n\")\n",
    "    for item in combined_data:\n",
    "        ofile.write(str(item[\"country\"]) + \",\" + str(item[\"article_name\"]) + \",\" + str(item[\"revision_id\"])+\",\" + str(item[\"article_quality\"])+\",\" + str(item[\"population\"]) + \"\\n\")\n",
    "print(\"Done\")    "
   ]
  }
 ],
 "metadata": {
  "kernelspec": {
   "display_name": "Python 3",
   "language": "python",
   "name": "python3"
  },
  "language_info": {
   "codemirror_mode": {
    "name": "ipython",
    "version": 3
   },
   "file_extension": ".py",
   "mimetype": "text/x-python",
   "name": "python",
   "nbconvert_exporter": "python",
   "pygments_lexer": "ipython3",
   "version": "3.6.3"
  }
 },
 "nbformat": 4,
 "nbformat_minor": 2
}
